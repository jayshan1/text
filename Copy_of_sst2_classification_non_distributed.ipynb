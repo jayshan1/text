{
  "cells": [
    {
      "cell_type": "markdown",
      "metadata": {
        "id": "LgdILPd8N4j7"
      },
      "source": [
        "\n",
        "# SST-2 Binary text classification with XLM-RoBERTa model\n",
        "\n",
        "**Author**: [Parmeet Bhatia](parmeetbhatia@fb.com)_\n"
      ]
    },
    {
      "cell_type": "markdown",
      "metadata": {
        "id": "wh_AlcD2N4j9"
      },
      "source": [
        "## Overview\n",
        "\n",
        "This tutorial demonstrates how to train a text classifier on SST-2 binary dataset using a pre-trained XLM-RoBERTa (XLM-R) model.\n",
        "We will show how to use torchtext library to:\n",
        "\n",
        "1. build text pre-processing pipeline for XLM-R model\n",
        "2. read SST-2 dataset and transform it using text and label transformation\n",
        "3. instantiate classification model using pre-trained XLM-R encoder\n",
        "\n",
        "\n",
        "\n"
      ]
    },
    {
      "cell_type": "markdown",
      "metadata": {
        "id": "mXYbuxMbN4j-"
      },
      "source": [
        "## Common imports\n",
        "\n"
      ]
    },
    {
      "cell_type": "code",
      "source": [
        "!pip install portalocker"
      ],
      "metadata": {
        "id": "q2U2xgtM5hCJ",
        "outputId": "1b583d6b-23c3-4018-8bb1-303f5f267899",
        "colab": {
          "base_uri": "https://localhost:8080/"
        }
      },
      "execution_count": 1,
      "outputs": [
        {
          "output_type": "stream",
          "name": "stdout",
          "text": [
            "Collecting portalocker\n",
            "  Downloading portalocker-2.8.2-py3-none-any.whl (17 kB)\n",
            "Installing collected packages: portalocker\n",
            "Successfully installed portalocker-2.8.2\n"
          ]
        }
      ]
    },
    {
      "cell_type": "code",
      "execution_count": 2,
      "metadata": {
        "id": "UBs5kqg3N4j-"
      },
      "outputs": [],
      "source": [
        "import torch\n",
        "import torch.nn as nn\n",
        "\n",
        "DEVICE = torch.device(\"cuda\") if torch.cuda.is_available() else torch.device(\"cpu\")"
      ]
    },
    {
      "cell_type": "markdown",
      "metadata": {
        "id": "ZZPNMokMN4j_"
      },
      "source": [
        "## Data Transformation\n",
        "\n",
        "Models like XLM-R cannot work directly with raw text. The first step in training\n",
        "these models is to transform input text into tensor (numerical) form such that it\n",
        "can then be processed by models to make predictions. A standard way to process text is:\n",
        "\n",
        "1. Tokenize text\n",
        "2. Convert tokens into (integer) IDs\n",
        "3. Add any special tokens IDs\n",
        "\n",
        "XLM-R uses sentencepiece model for text tokenization. Below, we use pre-trained sentencepiece\n",
        "model along with corresponding vocabulary to build text pre-processing pipeline using torchtext's transforms.\n",
        "The transforms are pipelined using :py:func:`torchtext.transforms.Sequential` which is similar to :py:func:`torch.nn.Sequential`\n",
        "but is torchscriptable. Note that the transforms support both batched and non-batched text inputs i.e, one\n",
        "can either pass a single sentence or list of sentences.\n",
        "\n",
        "\n"
      ]
    },
    {
      "cell_type": "code",
      "execution_count": 3,
      "metadata": {
        "id": "yMgMDgpCN4j_",
        "outputId": "4429fe25-c8c1-4bed-bd77-ec4c7ffc11aa",
        "colab": {
          "base_uri": "https://localhost:8080/"
        }
      },
      "outputs": [
        {
          "output_type": "stream",
          "name": "stderr",
          "text": [
            "100%|██████████| 5.07M/5.07M [00:00<00:00, 58.4MB/s]\n",
            "Downloading: \"https://download.pytorch.org/models/text/xlmr.vocab.pt\" to /root/.cache/torch/hub/checkpoints/xlmr.vocab.pt\n",
            "100%|██████████| 4.85M/4.85M [00:00<00:00, 59.7MB/s]\n"
          ]
        }
      ],
      "source": [
        "import torchtext.transforms as T\n",
        "from torch.hub import load_state_dict_from_url\n",
        "\n",
        "padding_idx = 1\n",
        "bos_idx = 0\n",
        "eos_idx = 2\n",
        "max_seq_len = 256\n",
        "xlmr_vocab_path = r\"https://download.pytorch.org/models/text/xlmr.vocab.pt\"\n",
        "xlmr_spm_model_path = r\"https://download.pytorch.org/models/text/xlmr.sentencepiece.bpe.model\"\n",
        "\n",
        "text_transform = T.Sequential(\n",
        "    T.SentencePieceTokenizer(xlmr_spm_model_path),\n",
        "    T.VocabTransform(load_state_dict_from_url(xlmr_vocab_path)),\n",
        "    T.Truncate(max_seq_len - 2),\n",
        "    T.AddToken(token=bos_idx, begin=True),\n",
        "    T.AddToken(token=eos_idx, begin=False),\n",
        ")\n",
        "\n",
        "\n",
        "from torch.utils.data import DataLoader"
      ]
    },
    {
      "cell_type": "markdown",
      "metadata": {
        "id": "0X7rg2MmN4j_"
      },
      "source": [
        "Alternately we can also use transform shipped with pre-trained model that does all of the above out-of-the-box\n",
        "\n",
        "::\n",
        "\n",
        "  text_transform = XLMR_BASE_ENCODER.transform()\n",
        "\n",
        "\n"
      ]
    },
    {
      "cell_type": "markdown",
      "metadata": {
        "id": "8p6RQRNEN4kA"
      },
      "source": [
        "## Dataset\n",
        "torchtext provides several standard NLP datasets. For complete list, refer to documentation\n",
        "at https://pytorch.org/text/stable/datasets.html. These datasets are build using composable torchdata\n",
        "datapipes and hence support standard flow-control and mapping/transformation using user defined functions\n",
        "and transforms. Below, we demonstrate how to use text and label processing transforms to pre-process the\n",
        "SST-2 dataset.\n",
        "\n",
        "<div class=\"alert alert-info\"><h4>Note</h4><p>Using datapipes is still currently subject to a few caveats. If you wish\n",
        "      to extend this example to include shuffling, multi-processing, or\n",
        "      distributed learning, please see `this note <datapipes_warnings>`\n",
        "      for further instructions.</p></div>\n",
        "\n"
      ]
    },
    {
      "cell_type": "code",
      "execution_count": 4,
      "metadata": {
        "id": "lYV1wQAxN4kA"
      },
      "outputs": [],
      "source": [
        "from torchtext.datasets import SST2\n",
        "\n",
        "batch_size = 16\n",
        "\n",
        "train_datapipe = SST2(split=\"train\")\n",
        "dev_datapipe = SST2(split=\"dev\")\n",
        "\n",
        "\n",
        "# Transform the raw dataset using non-batched API (i.e apply transformation line by line)\n",
        "def apply_transform(x):\n",
        "    return text_transform(x[0]), x[1]\n",
        "\n",
        "\n",
        "train_datapipe = train_datapipe.map(apply_transform)\n",
        "train_datapipe = train_datapipe.batch(batch_size)\n",
        "train_datapipe = train_datapipe.rows2columnar([\"token_ids\", \"target\"])\n",
        "train_dataloader = DataLoader(train_datapipe, batch_size=None)\n",
        "\n",
        "dev_datapipe = dev_datapipe.map(apply_transform)\n",
        "dev_datapipe = dev_datapipe.batch(batch_size)\n",
        "dev_datapipe = dev_datapipe.rows2columnar([\"token_ids\", \"target\"])\n",
        "dev_dataloader = DataLoader(dev_datapipe, batch_size=None)"
      ]
    },
    {
      "cell_type": "markdown",
      "metadata": {
        "id": "KOQ4ajIVN4kA"
      },
      "source": [
        "Alternately we can also use batched API (i.e apply transformation on the whole batch)\n",
        "\n",
        "::\n",
        "\n",
        "  def batch_transform(x):\n",
        "      return {\"token_ids\": text_transform(x[\"text\"]), \"target\": x[\"label\"]}\n",
        "\n",
        "\n",
        "  train_datapipe = train_datapipe.batch(batch_size).rows2columnar([\"text\", \"label\"])\n",
        "  train_datapipe = train_datapipe.map(lambda x: batch_transform)\n",
        "  dev_datapipe = dev_datapipe.batch(batch_size).rows2columnar([\"text\", \"label\"])\n",
        "  dev_datapipe = dev_datapipe.map(lambda x: batch_transform)\n",
        "\n",
        "\n"
      ]
    },
    {
      "cell_type": "markdown",
      "metadata": {
        "id": "iMtB3EQKN4kA"
      },
      "source": [
        "## Model Preparation\n",
        "\n",
        "torchtext provides SOTA pre-trained models that can be used to fine-tune on downstream NLP tasks.\n",
        "Below we use pre-trained XLM-R encoder with standard base architecture and attach a classifier head to fine-tune it\n",
        "on SST-2 binary classification task. We shall use standard Classifier head from the library, but users can define\n",
        "their own appropriate task head and attach it to the pre-trained encoder. For additional details on available pre-trained models,\n",
        "please refer to documentation at https://pytorch.org/text/main/models.html\n",
        "\n",
        "\n",
        "\n"
      ]
    },
    {
      "cell_type": "code",
      "source": [
        "class RobertaClassificationHea(nn.Module):\n",
        "    def __init__(\n",
        "        self,\n",
        "        num_classes,\n",
        "        input_dim,\n",
        "        inner_dim=None,\n",
        "        dropout=0.1,\n",
        "        activation=nn.GELU,\n",
        "        num_layers=2,\n",
        "        residual=True,\n",
        "        layer_norm_eps=1e-12,\n",
        "    ) -> None:\n",
        "        super().__init__()\n",
        "        if not inner_dim:\n",
        "            inner_dim = input_dim\n",
        "\n",
        "        self.layers = nn.ModuleList()\n",
        "        for _ in range(num_layers):\n",
        "            self.layers.append(nn.Sequential(\n",
        "                nn.Linear(input_dim, inner_dim),\n",
        "                nn.LayerNorm(inner_dim, eps=layer_norm_eps),\n",
        "                activation(),\n",
        "                nn.Dropout(dropout)\n",
        "            ))\n",
        "            input_dim = inner_dim\n",
        "\n",
        "        self.residual = residual\n",
        "        if self.residual:\n",
        "            self.residual_projection = nn.Linear(input_dim, num_classes)\n",
        "\n",
        "        self.classifier = nn.Linear(input_dim, num_classes)\n",
        "        self.activation_fn = activation()\n",
        "\n",
        "    def forward(self, features):\n",
        "        x = features[:, 0, :]\n",
        "        residual = x\n",
        "\n",
        "        for layer in self.layers:\n",
        "            x = layer(x)\n",
        "            if self.residual:\n",
        "                residual = x\n",
        "\n",
        "        if self.residual:\n",
        "            x = self.residual_projection(residual) + self.classifier(x)\n",
        "        else:\n",
        "            x = self.classifier(x)\n",
        "\n",
        "        return x"
      ],
      "metadata": {
        "id": "GM2gKacP5GLP"
      },
      "execution_count": 11,
      "outputs": []
    },
    {
      "cell_type": "code",
      "execution_count": 12,
      "metadata": {
        "id": "KFwbW08TN4kB",
        "outputId": "aa634d46-3f29-4231-e18c-a538143d434f",
        "colab": {
          "base_uri": "https://localhost:8080/"
        }
      },
      "outputs": [
        {
          "output_type": "execute_result",
          "data": {
            "text/plain": [
              "RobertaModel(\n",
              "  (encoder): RobertaEncoder(\n",
              "    (transformer): TransformerEncoder(\n",
              "      (token_embedding): Embedding(250002, 768, padding_idx=1)\n",
              "      (layers): TransformerEncoder(\n",
              "        (layers): ModuleList(\n",
              "          (0-11): 12 x TransformerEncoderLayer(\n",
              "            (self_attn): MultiheadAttention(\n",
              "              (out_proj): NonDynamicallyQuantizableLinear(in_features=768, out_features=768, bias=True)\n",
              "            )\n",
              "            (linear1): Linear(in_features=768, out_features=3072, bias=True)\n",
              "            (dropout): Dropout(p=0.1, inplace=False)\n",
              "            (linear2): Linear(in_features=3072, out_features=768, bias=True)\n",
              "            (norm1): LayerNorm((768,), eps=1e-05, elementwise_affine=True)\n",
              "            (norm2): LayerNorm((768,), eps=1e-05, elementwise_affine=True)\n",
              "            (dropout1): Dropout(p=0.1, inplace=False)\n",
              "            (dropout2): Dropout(p=0.1, inplace=False)\n",
              "          )\n",
              "        )\n",
              "      )\n",
              "      (positional_embedding): PositionalEmbedding(\n",
              "        (embedding): Embedding(514, 768, padding_idx=1)\n",
              "      )\n",
              "      (embedding_layer_norm): LayerNorm((768,), eps=1e-05, elementwise_affine=True)\n",
              "      (dropout): Dropout(p=0.1, inplace=False)\n",
              "    )\n",
              "  )\n",
              "  (head): RobertaClassificationHea(\n",
              "    (layers): ModuleList(\n",
              "      (0-1): 2 x Sequential(\n",
              "        (0): Linear(in_features=768, out_features=768, bias=True)\n",
              "        (1): LayerNorm((768,), eps=1e-12, elementwise_affine=True)\n",
              "        (2): GELU(approximate='none')\n",
              "        (3): Dropout(p=0.1, inplace=False)\n",
              "      )\n",
              "    )\n",
              "    (residual_projection): Linear(in_features=768, out_features=2, bias=True)\n",
              "    (classifier): Linear(in_features=768, out_features=2, bias=True)\n",
              "    (activation_fn): GELU(approximate='none')\n",
              "  )\n",
              ")"
            ]
          },
          "metadata": {},
          "execution_count": 12
        }
      ],
      "source": [
        "num_classes = 2\n",
        "input_dim = 768\n",
        "\n",
        "from torchtext.models import RobertaClassificationHead, XLMR_BASE_ENCODER\n",
        "\n",
        "classifier_head = RobertaClassificationHea(num_classes=num_classes, input_dim=input_dim)\n",
        "model = XLMR_BASE_ENCODER.get_model(head=classifier_head)\n",
        "model.to(DEVICE)"
      ]
    },
    {
      "cell_type": "markdown",
      "metadata": {
        "id": "XcHn65sXN4kB"
      },
      "source": [
        "## Training methods\n",
        "\n",
        "Let's now define the standard optimizer and training criteria as well as some helper functions\n",
        "for training and evaluation\n",
        "\n",
        "\n"
      ]
    },
    {
      "cell_type": "code",
      "execution_count": 13,
      "metadata": {
        "id": "5oj8ngsuN4kB"
      },
      "outputs": [],
      "source": [
        "import torchtext.functional as F\n",
        "from torch.optim import AdamW\n",
        "\n",
        "learning_rate = 1e-5\n",
        "optim = AdamW(model.parameters(), lr=learning_rate)\n",
        "criteria = nn.CrossEntropyLoss()\n",
        "\n",
        "\n",
        "def train_step(input, target):\n",
        "    output = model(input)\n",
        "    loss = criteria(output, target)\n",
        "    optim.zero_grad()\n",
        "    loss.backward()\n",
        "    optim.step()\n",
        "\n",
        "\n",
        "def eval_step(input, target):\n",
        "    output = model(input)\n",
        "    loss = criteria(output, target).item()\n",
        "    return float(loss), (output.argmax(1) == target).type(torch.float).sum().item()\n",
        "\n",
        "\n",
        "def evaluate():\n",
        "    model.eval()\n",
        "    total_loss = 0\n",
        "    correct_predictions = 0\n",
        "    total_predictions = 0\n",
        "    counter = 0\n",
        "    with torch.no_grad():\n",
        "        for batch in dev_dataloader:\n",
        "            input = F.to_tensor(batch[\"token_ids\"], padding_value=padding_idx).to(DEVICE)\n",
        "            target = torch.tensor(batch[\"target\"]).to(DEVICE)\n",
        "            loss, predictions = eval_step(input, target)\n",
        "            total_loss += loss\n",
        "            correct_predictions += predictions\n",
        "            total_predictions += len(target)\n",
        "            counter += 1\n",
        "\n",
        "    return total_loss / counter, correct_predictions / total_predictions"
      ]
    },
    {
      "cell_type": "markdown",
      "metadata": {
        "id": "P47hoj3WN4kB"
      },
      "source": [
        "## Train\n",
        "\n",
        "Now we have all the ingredients to train our classification model. Note that we are able to directly iterate\n",
        "on our dataset object without using DataLoader. Our pre-process dataset  shall yield batches of data already,\n",
        "thanks to the batching datapipe we have applied. For distributed training, we would need to use DataLoader to\n",
        "take care of data-sharding.\n",
        "\n",
        "\n"
      ]
    },
    {
      "cell_type": "code",
      "execution_count": 14,
      "metadata": {
        "id": "kwLvc0VsN4kC",
        "colab": {
          "base_uri": "https://localhost:8080/"
        },
        "outputId": "9dc40c26-ff56-48c3-8723-f3e1b9fced60"
      },
      "outputs": [
        {
          "output_type": "stream",
          "name": "stdout",
          "text": [
            "Epoch = [0], loss = [0.7116222565824335], accuracy = [0.4908256880733945]\n",
            "Epoch = [0], loss = [0.4225659332492135], accuracy = [0.8107798165137615]\n",
            "Epoch = [0], loss = [0.3644484435970133], accuracy = [0.8486238532110092]\n",
            "Epoch = [0], loss = [0.31745009341023184], accuracy = [0.8612385321100917]\n",
            "Epoch = [0], loss = [0.2717769467695193], accuracy = [0.8899082568807339]\n",
            "Epoch = [0], loss = [0.3131408681923693], accuracy = [0.8646788990825688]\n",
            "Epoch = [0], loss = [0.25744988240978933], accuracy = [0.8979357798165137]\n",
            "Epoch = [0], loss = [0.25122881877151404], accuracy = [0.8990825688073395]\n",
            "Epoch = [0], loss = [0.25289446474476296], accuracy = [0.9048165137614679]\n",
            "Epoch = [0], loss = [0.24320473416962407], accuracy = [0.9048165137614679]\n",
            "Epoch = [0], loss = [0.2314221299846064], accuracy = [0.9094036697247706]\n",
            "Epoch = [0], loss = [0.26795687316493555], accuracy = [0.8818807339449541]\n",
            "Epoch = [0], loss = [0.23805896626277404], accuracy = [0.9013761467889908]\n",
            "Epoch = [0], loss = [0.252466795458035], accuracy = [0.8899082568807339]\n",
            "Epoch = [0], loss = [0.23937322087585927], accuracy = [0.9036697247706422]\n",
            "Epoch = [0], loss = [0.2261127918958664], accuracy = [0.911697247706422]\n",
            "Epoch = [0], loss = [0.30074996687471867], accuracy = [0.9013761467889908]\n",
            "Epoch = [0], loss = [0.23295674791390245], accuracy = [0.9094036697247706]\n",
            "Epoch = [0], loss = [0.2318418297577988], accuracy = [0.9048165137614679]\n",
            "Epoch = [0], loss = [0.29156314229423347], accuracy = [0.8841743119266054]\n",
            "Epoch = [0], loss = [0.25359270802953027], accuracy = [0.9036697247706422]\n",
            "Epoch = [0], loss = [0.23919194410131736], accuracy = [0.9094036697247706]\n",
            "Epoch = [0], loss = [0.21991200562227856], accuracy = [0.9094036697247706]\n",
            "Epoch = [0], loss = [0.271821886097843], accuracy = [0.8944954128440367]\n",
            "Epoch = [0], loss = [0.2581525792452422], accuracy = [0.8990825688073395]\n",
            "Epoch = [0], loss = [0.21954351778734815], accuracy = [0.9071100917431193]\n",
            "Epoch = [0], loss = [0.2388778925619342], accuracy = [0.911697247706422]\n",
            "Epoch = [0], loss = [0.23210168460553343], accuracy = [0.9094036697247706]\n",
            "Epoch = [0], loss = [0.22450026883320376], accuracy = [0.9105504587155964]\n",
            "Epoch = [0], loss = [0.23506292279132388], accuracy = [0.9071100917431193]\n",
            "Epoch = [0], loss = [0.2307323747737841], accuracy = [0.9059633027522935]\n",
            "Epoch = [0], loss = [0.22466654303399], accuracy = [0.9094036697247706]\n",
            "Epoch = [0], loss = [0.24951681537045675], accuracy = [0.9094036697247706]\n",
            "Epoch = [0], loss = [0.2211308322169564], accuracy = [0.911697247706422]\n",
            "Epoch = [0], loss = [0.21686156239699234], accuracy = [0.9185779816513762]\n",
            "Epoch = [0], loss = [0.23140603442761032], accuracy = [0.9105504587155964]\n",
            "Epoch = [0], loss = [0.220040320164778], accuracy = [0.9185779816513762]\n",
            "Epoch = [0], loss = [0.21284835795787246], accuracy = [0.9174311926605505]\n",
            "Epoch = [0], loss = [0.21310610290278087], accuracy = [0.9197247706422018]\n",
            "Epoch = [0], loss = [0.20169083354147999], accuracy = [0.9185779816513762]\n",
            "Epoch = [0], loss = [0.23126477277414365], accuracy = [0.9220183486238532]\n",
            "Epoch = [0], loss = [0.28964807022024286], accuracy = [0.9025229357798165]\n",
            "Epoch = [0], loss = [0.2234569223766977], accuracy = [0.9208715596330275]\n",
            "Epoch = [0], loss = [0.2258536060764031], accuracy = [0.9162844036697247]\n"
          ]
        }
      ],
      "source": [
        "num_epochs = 1\n",
        "\n",
        "for e in range(num_epochs):\n",
        "    i=0\n",
        "    for batch in train_dataloader:\n",
        "        if(i%100==0):\n",
        "          loss, accuracy = evaluate()\n",
        "          print(\"Epoch = [{}], loss = [{}], accuracy = [{}]\".format(e, loss, accuracy))\n",
        "        input = F.to_tensor(batch[\"token_ids\"], padding_value=padding_idx).to(DEVICE)\n",
        "        target = torch.tensor(batch[\"target\"]).to(DEVICE)\n",
        "        train_step(input, target)\n",
        "        i+=1\n",
        "\n",
        "    loss, accuracy = evaluate()\n",
        "    print(\"Epoch = [{}], loss = [{}], accuracy = [{}]\".format(e, loss, accuracy))"
      ]
    },
    {
      "cell_type": "markdown",
      "metadata": {
        "id": "98VmPcSBN4kC"
      },
      "source": [
        "## Output\n",
        "\n",
        "::\n",
        "\n",
        "  100%|██████████|5.07M/5.07M [00:00<00:00, 40.8MB/s]\n",
        "  Downloading: \"https://download.pytorch.org/models/text/xlmr.vocab.pt\" to /root/.cache/torch/hub/checkpoints/xlmr.vocab.pt\n",
        "  100%|██████████|4.85M/4.85M [00:00<00:00, 16.8MB/s]\n",
        "  Downloading: \"https://download.pytorch.org/models/text/xlmr.base.encoder.pt\" to /root/.cache/torch/hub/checkpoints/xlmr.base.encoder.pt\n",
        "  100%|██████████|1.03G/1.03G [00:26<00:00, 47.1MB/s]\n",
        "  Epoch = [0], loss = [0.2629831412637776], accuracy = [0.9105504587155964]\n",
        "\n",
        "\n"
      ]
    }
  ],
  "metadata": {
    "kernelspec": {
      "display_name": "Python 3",
      "name": "python3"
    },
    "language_info": {
      "codemirror_mode": {
        "name": "ipython",
        "version": 3
      },
      "file_extension": ".py",
      "mimetype": "text/x-python",
      "name": "python",
      "nbconvert_exporter": "python",
      "pygments_lexer": "ipython3",
      "version": "3.8.19"
    },
    "colab": {
      "provenance": [],
      "gpuType": "T4"
    },
    "accelerator": "GPU"
  },
  "nbformat": 4,
  "nbformat_minor": 0
}